{
  "nbformat": 4,
  "nbformat_minor": 0,
  "metadata": {
    "colab": {
      "provenance": []
    },
    "kernelspec": {
      "name": "python3",
      "display_name": "Python 3"
    },
    "language_info": {
      "name": "python"
    }
  },
  "cells": [
    {
      "cell_type": "markdown",
      "source": [
        "#Basic If-Else statements\n",
        "\n"
      ],
      "metadata": {
        "id": "tcmD-rsRW0OZ"
      }
    },
    {
      "cell_type": "markdown",
      "source": [
        "1.write a program to check if a given number is positive or negative.\n"
      ],
      "metadata": {
        "id": "4NxaDrmrW_zO"
      }
    },
    {
      "cell_type": "code",
      "execution_count": null,
      "metadata": {
        "colab": {
          "base_uri": "https://localhost:8080/"
        },
        "id": "vlen7yexWpV_",
        "outputId": "58f2cc15-281a-4513-96e1-9744c8662427"
      },
      "outputs": [
        {
          "output_type": "stream",
          "name": "stdout",
          "text": [
            "Enter a number2\n",
            "Given number is positive\n"
          ]
        }
      ],
      "source": [
        "n=int(input('Enter a number'))\n",
        "if n>0:\n",
        "  print('Given number is positive')\n",
        "else:\n",
        "  print('Given number is negative')\n"
      ]
    },
    {
      "cell_type": "markdown",
      "source": [
        "2.Create a program that determines if a person is eligible to vote based on their age.\n"
      ],
      "metadata": {
        "id": "-MxXrB_LXqAI"
      }
    },
    {
      "cell_type": "code",
      "source": [
        "age=int(input('Enter a age'))\n",
        "\n",
        "if age<=0:\n",
        "  print('Enter a valid age')\n",
        "elif age>=18:\n",
        "  print('your are eligible for vote')\n",
        "else:\n",
        "  print('Your are not eligible for vote')\n"
      ],
      "metadata": {
        "colab": {
          "base_uri": "https://localhost:8080/"
        },
        "id": "Y9vEOgZ7Xil8",
        "outputId": "5790bb7a-3c4b-4dc7-c3d4-e8ea34851a83"
      },
      "execution_count": null,
      "outputs": [
        {
          "output_type": "stream",
          "name": "stdout",
          "text": [
            "Enter a age22\n",
            "your are eligible for vote\n"
          ]
        }
      ]
    },
    {
      "cell_type": "markdown",
      "source": [
        "3.Develope a program to find the maximum of two numbers using if-else statements.\n"
      ],
      "metadata": {
        "id": "FsFLs_XbZBue"
      }
    },
    {
      "cell_type": "code",
      "source": [
        "a=int(input('enter a number'))\n",
        "b=int(input('Enter a number'))\n",
        "if a<b:\n",
        "  print(a ,\"Is less than\", b)\n",
        "else:\n",
        "  print(a ,\"is greater than\", b)\n"
      ],
      "metadata": {
        "colab": {
          "base_uri": "https://localhost:8080/"
        },
        "id": "gISnV_buYfg7",
        "outputId": "ba70f3a7-dd13-4b40-abbc-39d14287f74f"
      },
      "execution_count": null,
      "outputs": [
        {
          "output_type": "stream",
          "name": "stdout",
          "text": [
            "enter a number4\n",
            "Enter a number5\n",
            "4 Is less than 5\n"
          ]
        }
      ]
    },
    {
      "cell_type": "markdown",
      "source": [
        "4.Write a python script to classify a given year as a leap year or not.\n"
      ],
      "metadata": {
        "id": "oebAo3woZ23z"
      }
    },
    {
      "cell_type": "code",
      "source": [
        "year=int(input('Enter a year'))\n",
        "\n",
        "if year%4==0 and year%100!=0 or year%400==0:\n",
        "  print('Year is leap year')"
      ],
      "metadata": {
        "id": "RhKeKXm7Zn-k",
        "colab": {
          "base_uri": "https://localhost:8080/"
        },
        "outputId": "9c15ab9b-e4f5-472d-a92b-b6e9669668a6"
      },
      "execution_count": null,
      "outputs": [
        {
          "output_type": "stream",
          "name": "stdout",
          "text": [
            "Enter a year2012\n",
            "Year is leap year\n"
          ]
        }
      ]
    },
    {
      "cell_type": "markdown",
      "source": [
        "5.Create a program to check whether a character is a vowel or consonant.\n"
      ],
      "metadata": {
        "id": "Pqv_WtPWa1Yv"
      }
    },
    {
      "cell_type": "code",
      "source": [
        "char=input('Enter a character')\n",
        "vowels='aeiou'\n",
        "if char in vowels:\n",
        "  print('Given character is vowels')\n",
        "else:\n",
        "  print('Given character is conosonant')"
      ],
      "metadata": {
        "colab": {
          "base_uri": "https://localhost:8080/"
        },
        "id": "zFt04XNxbTDy",
        "outputId": "d34553b0-8622-4fcf-851a-a63176225572"
      },
      "execution_count": null,
      "outputs": [
        {
          "output_type": "stream",
          "name": "stdout",
          "text": [
            "Enter a characters\n",
            "Given character is conosonant\n"
          ]
        }
      ]
    },
    {
      "cell_type": "markdown",
      "source": [
        "6.Implement a program to determine whether a given number is even or odd.\n"
      ],
      "metadata": {
        "id": "9dkJ5fehcxRL"
      }
    },
    {
      "cell_type": "code",
      "source": [
        "n=int(input('enter a number'))\n",
        "if n%2==0:\n",
        "  print('Given number is even')\n",
        "else:\n",
        "  print('Given number is odd')\n"
      ],
      "metadata": {
        "colab": {
          "base_uri": "https://localhost:8080/"
        },
        "id": "t5MXsBROdKOG",
        "outputId": "e399ad4b-0559-4362-f0fb-57265f571e04"
      },
      "execution_count": null,
      "outputs": [
        {
          "output_type": "stream",
          "name": "stdout",
          "text": [
            "enter a number3\n",
            "Given number is odd\n"
          ]
        }
      ]
    },
    {
      "cell_type": "markdown",
      "source": [
        "7.write a python function to calculate the absolute value of a number without using abs() functions.\n"
      ],
      "metadata": {
        "id": "3Wd70-0bdx1i"
      }
    },
    {
      "cell_type": "code",
      "source": [
        "def absc(n):\n",
        "  if n>0:\n",
        "    return n\n",
        "  elif n==0:\n",
        "    return 0\n",
        "  elif n<0:\n",
        "    return -n\n",
        "  else:\n",
        "    return n\n",
        "\n",
        "a=absc(-1)\n",
        "print(a)\n",
        "b=absc(1)\n",
        "print(b)\n",
        "c=abs(3.14)\n",
        "print(c)"
      ],
      "metadata": {
        "colab": {
          "base_uri": "https://localhost:8080/"
        },
        "id": "SR9o8NaGds2n",
        "outputId": "033c8de0-997a-4707-e8d3-14fd4a400ac4"
      },
      "execution_count": null,
      "outputs": [
        {
          "output_type": "stream",
          "name": "stdout",
          "text": [
            "1\n",
            "1\n",
            "3.14\n"
          ]
        }
      ]
    },
    {
      "cell_type": "markdown",
      "source": [
        "8.Develope a program that determines the largest of three given numbers using if  else statements."
      ],
      "metadata": {
        "id": "P5z9mY4IfylH"
      }
    },
    {
      "cell_type": "code",
      "source": [
        "\n",
        "a=int(input('Enter a number'))\n",
        "b=int(input('Enter a second number'))\n",
        "c=int(input('Enter a third numbers'))\n",
        "\n",
        "if a>b and a>c:\n",
        "  print(a ,'is largest number')\n",
        "elif b>a and b>c:\n",
        "  print(b, 'Is largest number')\n",
        "else:\n",
        "  print(c, 'Is largest number')\n"
      ],
      "metadata": {
        "colab": {
          "base_uri": "https://localhost:8080/"
        },
        "id": "h7-4A3yBfe5m",
        "outputId": "3e168537-e258-4ca5-e70f-139e5dc4a1f9"
      },
      "execution_count": null,
      "outputs": [
        {
          "output_type": "stream",
          "name": "stdout",
          "text": [
            "Enter a number2\n",
            "Enter a second number3\n",
            "Enter a third numbers5\n",
            "5 Is largest number\n"
          ]
        }
      ]
    },
    {
      "cell_type": "markdown",
      "source": [
        "9.Create a program that checks if a given string is palindrome.\n"
      ],
      "metadata": {
        "id": "mioc6G3phf8m"
      }
    },
    {
      "cell_type": "code",
      "source": [
        "string=input('Enter a string')\n",
        "if string[::-1] == string:\n",
        "  print(string, 'is palindrome')\n",
        "else:\n",
        "  print(string, 'is not palinfrome')\n"
      ],
      "metadata": {
        "colab": {
          "base_uri": "https://localhost:8080/"
        },
        "id": "4NnLfPK-hbNx",
        "outputId": "312d7019-bc70-4c5f-abed-c812a8ff84d3"
      },
      "execution_count": null,
      "outputs": [
        {
          "output_type": "stream",
          "name": "stdout",
          "text": [
            "Enter a stringnaman\n",
            "naman is palindrome\n"
          ]
        }
      ]
    },
    {
      "cell_type": "markdown",
      "source": [
        "10.Write a program to calculate the grade based on a students score.\n"
      ],
      "metadata": {
        "id": "6NLNnehiiWOe"
      }
    },
    {
      "cell_type": "code",
      "source": [
        "score=int(input('Enter your exam score'))\n",
        "if score in range(1,35):\n",
        "  print('You got F grade')\n",
        "elif score in range(35,50+1):\n",
        "  print('You got c grade')\n",
        "elif score in range(50,70+1):\n",
        "  print('You got B grade')\n",
        "elif score in range(70,100+1):\n",
        "  print('You got A grade')\n",
        "else:\n",
        "  print('Enter a valid score')\n"
      ],
      "metadata": {
        "colab": {
          "base_uri": "https://localhost:8080/"
        },
        "id": "v1SWuWPWiM-5",
        "outputId": "3fac477d-5adf-4068-b027-c37877b58005"
      },
      "execution_count": null,
      "outputs": [
        {
          "output_type": "stream",
          "name": "stdout",
          "text": [
            "Enter your exam score8\n",
            "You got F grade\n"
          ]
        }
      ]
    },
    {
      "cell_type": "markdown",
      "source": [
        "#Nested if-else statements\n"
      ],
      "metadata": {
        "id": "XfNi2MfLlCu3"
      }
    },
    {
      "cell_type": "markdown",
      "source": [
        "\n",
        "11.Write a program to find the largest amoung three numbers using nested if-else statements."
      ],
      "metadata": {
        "id": "XWkaOBJglMxI"
      }
    },
    {
      "cell_type": "code",
      "source": [
        "a=8\n",
        "b=5\n",
        "c=9\n",
        "if a>b:\n",
        "  if a>c:\n",
        "    print(a, 'is largest')\n",
        "  else:\n",
        "    print(c, 'is largest')\n",
        "else:\n",
        "  print(b, 'is largest')\n"
      ],
      "metadata": {
        "id": "_afRY0OfkB-P",
        "colab": {
          "base_uri": "https://localhost:8080/"
        },
        "outputId": "d4bada08-e54b-4630-85f0-29fb0d199044"
      },
      "execution_count": null,
      "outputs": [
        {
          "output_type": "stream",
          "name": "stdout",
          "text": [
            "9 is largest\n"
          ]
        }
      ]
    },
    {
      "cell_type": "markdown",
      "source": [
        "12.Implement a program to determine if a tringle is equilateral, isoscles or scalene."
      ],
      "metadata": {
        "id": "1QVc_GR-ld0K"
      }
    },
    {
      "cell_type": "code",
      "source": [
        "side1=int(input('Enter first side'))\n",
        "side2=int(input('Enter second side'))\n",
        "side3=int(input('Enter third side'))\n",
        "\n",
        "if side1==side2 and side1==side3:\n",
        "  print('Tringle is equilateral')\n",
        "elif side1==side2 or side1==side3 or side2==side3:\n",
        "  print('Tringle is isoscles')\n",
        "else:\n",
        "  print('Tringle is scalene')\n",
        "\n"
      ],
      "metadata": {
        "id": "D10M8QrllwhH",
        "colab": {
          "base_uri": "https://localhost:8080/"
        },
        "outputId": "b13e88f9-f8b4-42c3-cf50-8306632a3d7e"
      },
      "execution_count": null,
      "outputs": [
        {
          "output_type": "stream",
          "name": "stdout",
          "text": [
            "Enter first side2\n",
            "Enter second side2\n",
            "Enter third side2\n",
            "Tringle is equilateral\n"
          ]
        }
      ]
    },
    {
      "cell_type": "markdown",
      "source": [
        "13. Develope a program that checks if a year is a leap year and also if it is a century year."
      ],
      "metadata": {
        "id": "NNnUq9EhmK0i"
      }
    },
    {
      "cell_type": "code",
      "source": [
        "year=int(input('Enter a year'))\n",
        "\n",
        "if year %4==0 and year%100!=0 or year%400==0:\n",
        "  print(year ,'is leap year')\n",
        "else:\n",
        "  print(year, 'is not leap year')\n",
        "\n"
      ],
      "metadata": {
        "id": "mg4Q6iagmKBq",
        "colab": {
          "base_uri": "https://localhost:8080/"
        },
        "outputId": "f8006c8d-3621-4ae9-e80a-7398f3f64e1e"
      },
      "execution_count": null,
      "outputs": [
        {
          "output_type": "stream",
          "name": "stdout",
          "text": [
            "Enter a year400\n",
            "400 is leap year\n"
          ]
        }
      ]
    },
    {
      "cell_type": "markdown",
      "source": [
        "14.Develope a program that determines if a number is  positive , negative or zero.\n"
      ],
      "metadata": {
        "id": "LxgQyj5slxbA"
      }
    },
    {
      "cell_type": "code",
      "source": [
        "num=int(input('Enter a number'))\n",
        "\n",
        "if num>0:\n",
        "  print(num, 'is positive')\n",
        "elif num==0:\n",
        "  print(num,' is zero')\n",
        "elif num<0:\n",
        "  print(num, 'is negative')\n"
      ],
      "metadata": {
        "id": "dMUjxpwjm5o8",
        "colab": {
          "base_uri": "https://localhost:8080/"
        },
        "outputId": "48008fd2-04ed-4f40-b69b-f74ab4ec3276"
      },
      "execution_count": null,
      "outputs": [
        {
          "output_type": "stream",
          "name": "stdout",
          "text": [
            "Enter a number2\n",
            "2 is positive\n"
          ]
        }
      ]
    },
    {
      "cell_type": "markdown",
      "source": [
        "15.Create a program to check if a person is a teenager."
      ],
      "metadata": {
        "id": "t8N0hJprm60E"
      }
    },
    {
      "cell_type": "code",
      "source": [
        "age=int(input('Enter a age'))\n",
        "\n",
        "if age in range(13,19+1):\n",
        "  print('You are teenager')\n",
        "elif age<13 or age>19:\n",
        "  print('You are not teenager')\n",
        "else:\n",
        "  print('Enter valid age')\n",
        "\n",
        "\n",
        "\n"
      ],
      "metadata": {
        "id": "rBMmnq41nfbU",
        "colab": {
          "base_uri": "https://localhost:8080/"
        },
        "outputId": "9692bae0-2c17-4477-cde0-2ea53fcc65c1"
      },
      "execution_count": null,
      "outputs": [
        {
          "output_type": "stream",
          "name": "stdout",
          "text": [
            "Enter a age13\n",
            "You are teenager\n"
          ]
        }
      ]
    },
    {
      "cell_type": "markdown",
      "source": [
        "16.Develope a program that determines the type of angle based on its measure(acute,abtuse,or right).\n"
      ],
      "metadata": {
        "id": "90Xyx1WIngOC"
      }
    },
    {
      "cell_type": "code",
      "source": [
        "angle=int(input('Enter a value of angle'))\n",
        "\n",
        "if angle==90:\n",
        "  print('This is right angle')\n",
        "elif angle<90:\n",
        "  print('This is acute angle')\n",
        "elif angle in range(90,181):\n",
        "  print('This is abtuse angle')\n",
        "else:\n",
        "  print('Please enter valid angle')"
      ],
      "metadata": {
        "id": "uIC4QmLJn11U",
        "colab": {
          "base_uri": "https://localhost:8080/"
        },
        "outputId": "8f4e8a1a-18a7-4ee7-eee9-d6ff45815ecc"
      },
      "execution_count": null,
      "outputs": [
        {
          "output_type": "stream",
          "name": "stdout",
          "text": [
            "Enter a value of angle90\n",
            "This is right angle tringle\n"
          ]
        }
      ]
    },
    {
      "cell_type": "markdown",
      "source": [
        "17.write a python program to calculate the roots of quadratic equation."
      ],
      "metadata": {
        "id": "_QtUvkKFn2ux"
      }
    },
    {
      "cell_type": "code",
      "source": [],
      "metadata": {
        "id": "peWjjIZ5oFLL"
      },
      "execution_count": null,
      "outputs": []
    },
    {
      "cell_type": "markdown",
      "source": [
        "18.Implement a program to determine the day of the week based on a user-provided number(1 for monday , 2 for tuesday).\n",
        "\n"
      ],
      "metadata": {
        "id": "wj57ETivoGHh"
      }
    },
    {
      "cell_type": "code",
      "source": [
        "days={'1':'Sunday',\n",
        "   '2':'Monday',\n",
        "   '3':'Tuesday',\n",
        "   '4':'Wednesday',\n",
        "   '5':'Thursday',\n",
        "   '6':'Friday',\n",
        "   '7':'Saturday'}\n",
        "day=int(input('Enter a day'))\n",
        "\n",
        "print(days.get(str(day)))"
      ],
      "metadata": {
        "id": "UsaJ55L4ogBL",
        "colab": {
          "base_uri": "https://localhost:8080/"
        },
        "outputId": "4e533ee7-1b42-4a5f-958e-fd098558a323"
      },
      "execution_count": null,
      "outputs": [
        {
          "output_type": "stream",
          "name": "stdout",
          "text": [
            "Enter a day3\n",
            "Tuesday\n"
          ]
        }
      ]
    },
    {
      "cell_type": "markdown",
      "source": [
        "19.Create a program that determines if a year is a leap year and also if it is evenly divisible by 400."
      ],
      "metadata": {
        "id": "WoToe1SKog1o"
      }
    },
    {
      "cell_type": "code",
      "source": [
        "year=int(input('Enter a year'))\n",
        "\n",
        "if year%4==0 and year%400==0:\n",
        "  print('The year is leap year and evenly divisible  by 400')\n",
        "else:\n",
        "  if year%4==0:\n",
        "    print('The year is leap year but not evenly divisible by 400')\n",
        "  else:\n",
        "    print('The year is neighter divisible by 400 and not leap year')\n"
      ],
      "metadata": {
        "id": "2ZcJ1iAOo6Lz",
        "colab": {
          "base_uri": "https://localhost:8080/"
        },
        "outputId": "7a6a632e-65e0-45f6-b2ca-375086fa3ac6"
      },
      "execution_count": null,
      "outputs": [
        {
          "output_type": "stream",
          "name": "stdout",
          "text": [
            "Enter a year400\n",
            "The year is leap year and evenly divisible  by 400\n"
          ]
        }
      ]
    },
    {
      "cell_type": "markdown",
      "source": [
        "20.Develop a program that checks if a given number is prime or not using nested if-else statements.|"
      ],
      "metadata": {
        "id": "vMx4ypMto66O"
      }
    },
    {
      "cell_type": "code",
      "source": [],
      "metadata": {
        "id": "LAoOqSavpQDr"
      },
      "execution_count": null,
      "outputs": []
    },
    {
      "cell_type": "markdown",
      "source": [
        "#Elif statements"
      ],
      "metadata": {
        "id": "tfiJOzmGpUkw"
      }
    },
    {
      "cell_type": "markdown",
      "source": [
        "21.Write a python program to assign grades based on diffrent range of scores using elif statements."
      ],
      "metadata": {
        "id": "vzyweIJmpbTp"
      }
    },
    {
      "cell_type": "code",
      "source": [
        "marks=int(input('Enter your marks'))\n",
        "\n",
        "if marks in range(35):\n",
        "  print('Your got fail Grade=F')\n",
        "elif marks in range(35,50):\n",
        "  print('You got Grade=C')\n",
        "elif marks in range(50,70):\n",
        "  print('You got Grade=B')\n",
        "elif marks in range(70,101):\n",
        "  print('You got Grade=A')\n",
        "else:\n",
        "  print('Please enter valid marks')\n"
      ],
      "metadata": {
        "colab": {
          "base_uri": "https://localhost:8080/"
        },
        "id": "j_j0HJEcJi7O",
        "outputId": "ababc0d8-bb5a-4d7d-b10d-6bfa574e29ab"
      },
      "execution_count": null,
      "outputs": [
        {
          "output_type": "stream",
          "name": "stdout",
          "text": [
            "Enter your marks34\n",
            "Your got fail Grade=F\n"
          ]
        }
      ]
    },
    {
      "cell_type": "markdown",
      "source": [
        "22.Implement a program to determine the type of a tringle based on its angle."
      ],
      "metadata": {
        "id": "mqlzvrI9p2du"
      }
    },
    {
      "cell_type": "code",
      "source": [
        "angle1=int(input('Enter a first angle'))\n",
        "angle2=int(input('Enter second angle'))\n",
        "angle3=int(input('Enter third angle'))\n",
        "\n",
        "if angle1+angle2+angle3==180:\n",
        "\n",
        "  if angle1<90 and angle2<90 and angle3<90:\n",
        "    print('The given tringle is acute angle tringle')\n",
        "  elif angle1==90 or angle2==90 or angle3 ==90:\n",
        "    print('The given tringle is right angle tringle')\n",
        "  else:\n",
        "    print('The given tringle is obtuse angle tringle')\n",
        "\n",
        "else:\n",
        "  print('Enter valid angle values sum of angle should be 180')\n",
        "\n"
      ],
      "metadata": {
        "id": "SjF0lwEaqLXQ",
        "colab": {
          "base_uri": "https://localhost:8080/"
        },
        "outputId": "15828675-5e6b-4407-dd72-2707446089db"
      },
      "execution_count": null,
      "outputs": [
        {
          "output_type": "stream",
          "name": "stdout",
          "text": [
            "Enter a first angle90\n",
            "Enter second angle45\n",
            "Enter third angle45\n",
            "The given tringle is right angle tringle\n"
          ]
        }
      ]
    },
    {
      "cell_type": "markdown",
      "source": [
        "23.Develope a program to categorize a given perons BMI into underweight, normal, overweight using elif statements."
      ],
      "metadata": {
        "id": "SAvhFd6tqMHl"
      }
    },
    {
      "cell_type": "code",
      "source": [
        "weight = float(input('Enter your weight in kg: '))\n",
        "height = float(input('Enter your height in meters: '))\n",
        "\n",
        "bmi = weight / (height * height)\n",
        "\n",
        "if bmi < 18.5:\n",
        "    print('You are underweight.')\n",
        "elif 18.5 <= bmi < 25:\n",
        "    print('Normal weight.')\n",
        "elif 25 <= bmi < 30:\n",
        "    print('You are overweight.')\n",
        "\n",
        "\n",
        "\n"
      ],
      "metadata": {
        "id": "2krw7OTVqszG",
        "colab": {
          "base_uri": "https://localhost:8080/"
        },
        "outputId": "ab0578b9-ac34-44a9-f775-983e687cf524"
      },
      "execution_count": null,
      "outputs": [
        {
          "output_type": "stream",
          "name": "stdout",
          "text": [
            "Enter your weight in kg: 55\n",
            "Enter your height in meters: 170\n",
            "You are underweight.\n"
          ]
        }
      ]
    },
    {
      "cell_type": "markdown",
      "source": [
        "24.Create a program that determines whether a given number if positive, negative or zero."
      ],
      "metadata": {
        "id": "ejgedJjJqtkr"
      }
    },
    {
      "cell_type": "code",
      "source": [
        "num=int(input('Enter a number'))\n",
        "\n",
        "if num<0:\n",
        "  print(num, 'Is negative ')\n",
        "elif num >0:\n",
        "  print(num, 'Is positive')\n",
        "else:\n",
        "  print(num, 'Is zero')"
      ],
      "metadata": {
        "id": "fzDGXAVcq7us",
        "colab": {
          "base_uri": "https://localhost:8080/"
        },
        "outputId": "f1774298-33ff-4bd3-8f0f-0482697ce848"
      },
      "execution_count": null,
      "outputs": [
        {
          "output_type": "stream",
          "name": "stdout",
          "text": [
            "Enter a number6\n",
            "6 Is positive\n"
          ]
        }
      ]
    },
    {
      "cell_type": "markdown",
      "source": [
        "25.write a python script to determine the type of character(uppercase, lowercase or special) using elif statements."
      ],
      "metadata": {
        "id": "Qu6VSSSFq8Nb"
      }
    },
    {
      "cell_type": "code",
      "source": [
        "specialChar='!@#$%^&*()?><:\"'\n",
        "\n",
        "character=input('Input single character')\n",
        "if character.isupper():\n",
        "  print(character,' Is uppercase')\n",
        "elif character in specialChar:\n",
        "  print(character, 'Is special character')\n",
        "else:\n",
        "  print(character, 'Is lowercase')\n"
      ],
      "metadata": {
        "id": "O_CxsQi1rRqL",
        "colab": {
          "base_uri": "https://localhost:8080/"
        },
        "outputId": "cd7001f0-b90b-4b89-debd-5a6427b5b008"
      },
      "execution_count": null,
      "outputs": [
        {
          "output_type": "stream",
          "name": "stdout",
          "text": [
            "Input single characterZ\n",
            "Z  Is uppercase\n"
          ]
        }
      ]
    },
    {
      "cell_type": "markdown",
      "source": [
        "26.Implements a program to calculate the discounted price based on diffrent purchase amounts using elif statements."
      ],
      "metadata": {
        "id": "h13ASSSXrSPp"
      }
    },
    {
      "cell_type": "code",
      "source": [
        "bill=int(input('Enter your purchase amount'))\n",
        "\n",
        "if bill in range(5000,10000):\n",
        "  print('You got 20% discount')\n",
        "\n",
        "elif bill in range(1000,5000):\n",
        "  print('You got 10% discount')\n",
        "\n",
        "elif bill in range(500,1000):\n",
        "  print('You got 5% discount')\n",
        "\n",
        "elif bill in range(500):\n",
        "  print('To get discount You have to purchase over 500')\n",
        "\n",
        "else:\n",
        "  print('Enter correct amount')"
      ],
      "metadata": {
        "id": "FqcLtBNurq_y",
        "colab": {
          "base_uri": "https://localhost:8080/"
        },
        "outputId": "172cdaee-e148-4ffd-fdfc-6e54dceb91cf"
      },
      "execution_count": null,
      "outputs": [
        {
          "output_type": "stream",
          "name": "stdout",
          "text": [
            "Enter your purchase amount567\n",
            "You got 5% discount\n"
          ]
        }
      ]
    },
    {
      "cell_type": "markdown",
      "source": [
        "27."
      ],
      "metadata": {
        "id": "bh_kKB1D08KD"
      }
    },
    {
      "cell_type": "code",
      "source": [],
      "metadata": {
        "id": "KCmeXhEesBWA"
      },
      "execution_count": null,
      "outputs": []
    },
    {
      "cell_type": "markdown",
      "source": [
        "28.Create a program to determines the type of quadriteral based on its angle and sides using elif statements.\n"
      ],
      "metadata": {
        "id": "198VgFjrsB9Z"
      }
    },
    {
      "cell_type": "code",
      "source": [
        "side1=int(input('Enter first side'))\n",
        "side2=int(input('Enter second side'))\n",
        "side3=int(input('Enter third side'))\n",
        "side4=int(input('Enter fourth side'))\n",
        "angle1=int(input('Enter first angle'))\n",
        "angle2=int(input('Enter second angle'))\n",
        "angle3=int(input('Enter third angle'))\n",
        "angle4=int(input('Enter fourth angle'))\n",
        "\n",
        "if angle1+angle2+angle3+angle4==360:\n",
        "  if side1==side2 and side1==side3 and side3==side4:\n",
        "    print('It is square')\n",
        "  elif side1==side3 and side2==side4:\n",
        "    print('It is Reactangle')\n",
        "  elif angle1==angle2==angle3==angle4:\n",
        "    print('It is kite')\n",
        "else:\n",
        "  print('The sum of angle should be 360 enter angle again')\n",
        "\n",
        "\n",
        "\n"
      ],
      "metadata": {
        "id": "_FozVV0ZsUKm",
        "colab": {
          "base_uri": "https://localhost:8080/"
        },
        "outputId": "c6da9bf0-7455-48b3-82cc-4454e7d2ca76"
      },
      "execution_count": null,
      "outputs": [
        {
          "output_type": "stream",
          "name": "stdout",
          "text": [
            "Enter first side3\n",
            "Enter second side3\n",
            "Enter third side3\n",
            "Enter fourth side3\n",
            "Enter first angle90\n",
            "Enter second angle90\n",
            "Enter third angle90\n",
            "Enter fourth angle90\n",
            "It is square\n"
          ]
        }
      ]
    },
    {
      "cell_type": "markdown",
      "source": [
        "29.Write a python script to determines the scason based on a user-provided month using elif statements.a\n"
      ],
      "metadata": {
        "id": "TP-bNYRqsUtt"
      }
    },
    {
      "cell_type": "code",
      "source": [
        "\n",
        "Spring = [\"March\", \"April\", \"May\"]\n",
        "Summer = [\"June\", \"July\", \"August\"]\n",
        "Autumn = [\"September\", \"October\", \"November\"]\n",
        "Winter = [\"December\", \"January\", \"February\"]\n",
        "\n",
        "month=input('Enter month')\n",
        "if month in Spring:\n",
        "  print('This month comes in Spring')\n",
        "elif month in Summer:\n",
        "  print('This month comes in Summer')\n",
        "elif month in Autumn:\n",
        "  print('This month comes in Autumn')\n",
        "elif month in Winter:\n",
        "  print('This month comes in Winter')\n",
        "else:\n",
        "  print('Please enter correct month first letter should be capital')\n",
        "\n"
      ],
      "metadata": {
        "id": "A12-4WTVsrzt",
        "colab": {
          "base_uri": "https://localhost:8080/"
        },
        "outputId": "8c47752c-53fb-4665-f49d-f708cee50c0b"
      },
      "execution_count": null,
      "outputs": [
        {
          "output_type": "stream",
          "name": "stdout",
          "text": [
            "Enter monthMarch\n",
            "This month comes in Spring\n"
          ]
        }
      ]
    },
    {
      "cell_type": "markdown",
      "source": [
        "30.Implements a program to determines the type of a year(leap or common) and month(30 or 31 days) using elif statements."
      ],
      "metadata": {
        "id": "4CIyWCOWssY4"
      }
    },
    {
      "cell_type": "code",
      "source": [
        "year=int(input('Enter a year '))\n",
        "month=input('Enter a month')\n",
        "\n",
        "days30 = [\"April\", \"June\", \"September\", \"November\"]\n",
        "\n",
        "days31 = [\"January\", \"March\", \"May\", \"July\", \"August\", \"October\", \"December\"]\n",
        "\n",
        "if year%4==0:\n",
        "  print('The year is leap year')\n",
        "else:\n",
        "  print('The year is not a leap year')\n",
        "\n",
        "if month in days31:\n",
        "  print('The month contain 31 days')\n",
        "\n",
        "elif month in days30:\n",
        "  print('The month contain 30 days')"
      ],
      "metadata": {
        "id": "4N2bhJkLtAIt",
        "colab": {
          "base_uri": "https://localhost:8080/"
        },
        "outputId": "9ee3b6ab-2e8d-4c7e-a1ee-bb76cacab600"
      },
      "execution_count": null,
      "outputs": [
        {
          "output_type": "stream",
          "name": "stdout",
          "text": [
            "Enter a year 2012\n",
            "Enter a monthMay\n",
            "The year is leap year\n",
            "The month contain 31 days\n"
          ]
        }
      ]
    },
    {
      "cell_type": "code",
      "source": [],
      "metadata": {
        "id": "7tgnC6DYVC96"
      },
      "execution_count": null,
      "outputs": []
    },
    {
      "cell_type": "markdown",
      "source": [
        "#Basic Level\n"
      ],
      "metadata": {
        "id": "eUFh6wdK1caA"
      }
    },
    {
      "cell_type": "markdown",
      "source": [
        "1.Write a program that checks if a given number is positive, negative or zero."
      ],
      "metadata": {
        "id": "bAw92V7g1h04"
      }
    },
    {
      "cell_type": "code",
      "source": [
        "num=int(input('Enter a number'))\n",
        "\n",
        "if num<0:\n",
        "  print('The given number is negative')\n",
        "elif num>0:\n",
        "  print('The number is positive')\n",
        "else:\n",
        "  print('The number is zero')\n"
      ],
      "metadata": {
        "colab": {
          "base_uri": "https://localhost:8080/"
        },
        "id": "FrW5Exzu1gLe",
        "outputId": "02043cb9-27ba-4d8a-9db8-1a2ebef3b8ca"
      },
      "execution_count": null,
      "outputs": [
        {
          "output_type": "stream",
          "name": "stdout",
          "text": [
            "Enter a number4\n",
            "The number is positive\n"
          ]
        }
      ]
    },
    {
      "cell_type": "markdown",
      "source": [
        "2.Create a program to determine if a person is eligible for vote based on their age."
      ],
      "metadata": {
        "id": "STeA2L2U1vZI"
      }
    },
    {
      "cell_type": "code",
      "source": [
        "age=int(input('Enter your age'))\n",
        "\n",
        "if age<18:\n",
        "  print('You are not eligible for vote')\n",
        "elif  age>=18:\n",
        "  print('You are eligible for vote')\n",
        "else:\n",
        "  print('Please enter valid age ')"
      ],
      "metadata": {
        "colab": {
          "base_uri": "https://localhost:8080/"
        },
        "id": "asdnT5HF18PV",
        "outputId": "706c8782-207d-49ed-8d4b-53986bea4b91"
      },
      "execution_count": null,
      "outputs": [
        {
          "output_type": "stream",
          "name": "stdout",
          "text": [
            "Enter your age17\n",
            "You are not eligible for vote\n"
          ]
        }
      ]
    },
    {
      "cell_type": "markdown",
      "source": [
        "3.Write a program to find the maximum of two numbers using conditional statements."
      ],
      "metadata": {
        "id": "mQs6Bwve2FI5"
      }
    },
    {
      "cell_type": "code",
      "source": [
        "a=18\n",
        "b=20\n",
        "\n",
        "if a<b:\n",
        "  print(a,' Is less than ',b)\n",
        "else:\n",
        "  print(b, 'Is Greater than ',a)"
      ],
      "metadata": {
        "colab": {
          "base_uri": "https://localhost:8080/"
        },
        "id": "lE2P0ewF12d1",
        "outputId": "e656d765-0db0-4882-e344-3a3d45901aa6"
      },
      "execution_count": null,
      "outputs": [
        {
          "output_type": "stream",
          "name": "stdout",
          "text": [
            "18  Is less than  20\n"
          ]
        }
      ]
    },
    {
      "cell_type": "markdown",
      "source": [
        "4.Develope a program that calculates the grade of a student based on their exam score."
      ],
      "metadata": {
        "id": "WLtnM5CX2m8z"
      }
    },
    {
      "cell_type": "code",
      "source": [
        "score=int(input('Enter a score'))\n",
        "\n",
        "if score in range(35):\n",
        "  print('You got Grade=F')\n",
        "elif score in range(35,60):\n",
        "  print('You got Grade=C')\n",
        "elif score in range(60,80):\n",
        "  print('You got Grade=B')\n",
        "elif score in range(80,101):\n",
        "  print('You got Grade=A')\n",
        "else:\n",
        "  print('Enter valid score')\n"
      ],
      "metadata": {
        "colab": {
          "base_uri": "https://localhost:8080/"
        },
        "id": "DjsWDpQw1tU2",
        "outputId": "d139cbf9-539f-4a7f-fe90-b800bf2b3813"
      },
      "execution_count": null,
      "outputs": [
        {
          "output_type": "stream",
          "name": "stdout",
          "text": [
            "Enter a score34\n",
            "You got Grade=F\n"
          ]
        }
      ]
    },
    {
      "cell_type": "markdown",
      "source": [
        "5.Create a program that checks if a year is a leap year or not."
      ],
      "metadata": {
        "id": "dce5LVlV2yQB"
      }
    },
    {
      "cell_type": "code",
      "source": [
        "year=int(input('Enter a year'))\n",
        "\n",
        "if year%4==0 and year%100!=0 or year%400==0:\n",
        "  print('The given year is leap year')\n",
        "else:\n",
        "  print('The given year is not leap year')\n"
      ],
      "metadata": {
        "colab": {
          "base_uri": "https://localhost:8080/"
        },
        "id": "upPNwGbZ21yE",
        "outputId": "1b38e12b-8c5f-4769-8962-f884ae9b99ae"
      },
      "execution_count": null,
      "outputs": [
        {
          "output_type": "stream",
          "name": "stdout",
          "text": [
            "Enter a year2012\n",
            "The given year is leap year\n"
          ]
        }
      ]
    },
    {
      "cell_type": "markdown",
      "source": [
        "6.Write a program to classify a tringle based on its side's lengths."
      ],
      "metadata": {
        "id": "tKgm902a2-cC"
      }
    },
    {
      "cell_type": "code",
      "source": [
        "side1=int(input('Enter first side'))\n",
        "side2=int(input('Enter second side'))\n",
        "side3=int(input('Enter third side'))\n",
        "\n",
        "if side1==side2==side3 <=0:\n",
        "  print('Please enter valid input')\n",
        "\n",
        "else:\n",
        "  if side1==side2==side3:\n",
        "    print('This is Equilaterial tringle')\n",
        "  elif side1==side2 or side2==side3 or side3==side1:\n",
        "    print('This is Isosceles triangle')\n",
        "  else:\n",
        "    print('This is Scalene triangle')\n",
        "\n"
      ],
      "metadata": {
        "id": "Jy6BdrKF3LsM",
        "colab": {
          "base_uri": "https://localhost:8080/"
        },
        "outputId": "efe4c5e8-2b42-4803-c6de-193a74a3cace"
      },
      "execution_count": null,
      "outputs": [
        {
          "output_type": "stream",
          "name": "stdout",
          "text": [
            "Enter first side45\n",
            "Enter second side34\n",
            "Enter third side23\n",
            "Scalene triangle\n"
          ]
        }
      ]
    },
    {
      "cell_type": "markdown",
      "source": [
        "7.Build a program that determines the largest of three given numbers."
      ],
      "metadata": {
        "id": "CYIqWJS93MNn"
      }
    },
    {
      "cell_type": "code",
      "source": [
        "side1=int(input('Enter first side'))\n",
        "side2=int(input('Enter second side'))\n",
        "side3=int(input('Enter third side'))\n",
        "\n",
        "if side1==side2==side3:\n",
        "  print('This is Equilaterial tringle')\n",
        "\n",
        "elif side1==side2 or side1==side3 or side2==side3:\n",
        "  print('This is Isosceles tringle')\n",
        "\n",
        "else:\n",
        "  print('This is Scalene Triangle')"
      ],
      "metadata": {
        "id": "ec1CsxZN3YJW",
        "colab": {
          "base_uri": "https://localhost:8080/"
        },
        "outputId": "c2029f81-7e27-488e-b8ff-a1ddc094d382"
      },
      "execution_count": null,
      "outputs": [
        {
          "output_type": "stream",
          "name": "stdout",
          "text": [
            "Enter first side8\n",
            "Enter second side8\n",
            "Enter third side8\n",
            "This is Equilaterial tringle\n"
          ]
        }
      ]
    },
    {
      "cell_type": "markdown",
      "source": [
        "8.Develope a program that checks whether a character is a vowels or a conosant."
      ],
      "metadata": {
        "id": "yVu5SZkP3YnH"
      }
    },
    {
      "cell_type": "code",
      "source": [
        "vowels='aeiou'\n",
        "n=input('enter a single character')\n",
        "if n in vowels:\n",
        "  print(n, 'Is vowel')\n",
        "else:\n",
        "  print(n ,'is conosant')"
      ],
      "metadata": {
        "id": "0qhB6PMj3mqr",
        "colab": {
          "base_uri": "https://localhost:8080/"
        },
        "outputId": "9d43a880-e53e-4737-85f9-60aedc920f29"
      },
      "execution_count": null,
      "outputs": [
        {
          "output_type": "stream",
          "name": "stdout",
          "text": [
            "enter a single charactere\n",
            "e Is vowel\n"
          ]
        }
      ]
    },
    {
      "cell_type": "markdown",
      "source": [
        "\n",
        "9.Create a program to calculate the total cost of a shopping cart based on discounts."
      ],
      "metadata": {
        "id": "e3ZkPpOW3nJn"
      }
    },
    {
      "cell_type": "code",
      "source": [
        "def calculate_bill(bill, discount_percentage):\n",
        "    discounted_amount = bill * discount_percentage / 100\n",
        "    total_bill = bill - discounted_amount\n",
        "    return total_bill\n",
        "\n",
        "bill = int(input('Enter bill amount: '))\n",
        "\n",
        "if bill < 500:\n",
        "    print('Purchase over 500 to get a discount.')\n",
        "elif 500 <= bill < 3000:\n",
        "    print('You got 10% discount. Your total bill amount is',calculate_bill(bill, 10))\n",
        "elif 3000 <= bill < 10000:\n",
        "    print('You got 20% discount. Your total bill amount is',calculate_bill(bill, 20))\n",
        "elif bill>10000:\n",
        "    print('You entred invalid bill amount')\n",
        "else:\n",
        "    print('Please enter a valid input.')\n"
      ],
      "metadata": {
        "id": "3ohm8I6h3x60",
        "colab": {
          "base_uri": "https://localhost:8080/"
        },
        "outputId": "5ff8b650-77c6-429d-e60d-365ec5530c2a"
      },
      "execution_count": null,
      "outputs": [
        {
          "output_type": "stream",
          "name": "stdout",
          "text": [
            "Enter bill amount: 5000\n",
            "You got 20% discount. Your total bill amount is 4000.0\n"
          ]
        }
      ]
    },
    {
      "cell_type": "markdown",
      "source": [
        "10.Write a program that checks if a given number is even or odd."
      ],
      "metadata": {
        "id": "xHIvnNm63ygo"
      }
    },
    {
      "cell_type": "code",
      "source": [
        "num=int(input('Ente a number'))\n",
        "\n",
        "if num%2==0:\n",
        "  print('Given number is even')\n",
        "elif num%2!=0:\n",
        "  print('Given number is odd')\n",
        "else:\n",
        "  print('Please enter valid number')\n",
        "\n"
      ],
      "metadata": {
        "id": "5SlYpYrI36pS",
        "colab": {
          "base_uri": "https://localhost:8080/"
        },
        "outputId": "7c02c859-5892-4e97-97c4-690303693731"
      },
      "execution_count": null,
      "outputs": [
        {
          "output_type": "stream",
          "name": "stdout",
          "text": [
            "Ente a number3\n",
            "Given number is odd\n"
          ]
        }
      ]
    },
    {
      "cell_type": "markdown",
      "source": [
        "#intermediate Level\n",
        "\n"
      ],
      "metadata": {
        "id": "W2uQ-nsq38PN"
      }
    },
    {
      "cell_type": "markdown",
      "source": [
        "11. Write a program that calculates the roots of a quadratic equation ."
      ],
      "metadata": {
        "id": "P9NLLl1M4Dkl"
      }
    },
    {
      "cell_type": "code",
      "source": [],
      "metadata": {
        "id": "vv7gBz4C4C8L"
      },
      "execution_count": null,
      "outputs": []
    },
    {
      "cell_type": "markdown",
      "source": [
        "12. Create a program that determines the day of the week based on the day number (1-7).\n"
      ],
      "metadata": {
        "id": "GsT2RgbD5jc1"
      }
    },
    {
      "cell_type": "code",
      "source": [
        "days={'1':'Sunday',\n",
        "   '2':'Monday',\n",
        "   '3':'Tuesday',\n",
        "   '4':'Wednesday',\n",
        "   '5':'Thursday',\n",
        "   '6':'Friday',\n",
        "   '7':'Saturday'}\n",
        "day=int(input('Enter a day'))\n",
        "\n",
        "print(days.get(str(day)))"
      ],
      "metadata": {
        "id": "T-IEzGtm57Oh",
        "colab": {
          "base_uri": "https://localhost:8080/"
        },
        "outputId": "611d1af0-0a4a-4c0b-95c1-76aea4c5cc5c"
      },
      "execution_count": null,
      "outputs": [
        {
          "output_type": "stream",
          "name": "stdout",
          "text": [
            "Enter a day1\n",
            "Sunday\n"
          ]
        }
      ]
    },
    {
      "cell_type": "markdown",
      "source": [
        "13. Develop a program that calculates the factorial of a given number using recursion.\n"
      ],
      "metadata": {
        "id": "FViOgCQv579C"
      }
    },
    {
      "cell_type": "code",
      "source": [],
      "metadata": {
        "id": "F4XmMyBX6BLJ"
      },
      "execution_count": null,
      "outputs": []
    },
    {
      "cell_type": "markdown",
      "source": [
        "14. Write a program to find the largest among three numbers without using the `max()` function.\n"
      ],
      "metadata": {
        "id": "CE-nx-ua6E8r"
      }
    },
    {
      "cell_type": "code",
      "source": [
        "n1=int(input('Enter first number'))\n",
        "n2=int(input('Enter second number'))\n",
        "n3=int(input('Enter third number'))\n",
        "\n",
        "if n1>n2 and n1>n3:\n",
        "  print(n1, 'Is largest')\n",
        "elif n2>n1 and n2>n3:\n",
        "  print(n2, 'Is largest')\n",
        "elif n3>n1 and n3>n2:\n",
        "  print(n3,' Is largest')\n",
        "else:\n",
        "  print('Enter valid input')\n"
      ],
      "metadata": {
        "id": "6x2oNOYV6HzA",
        "colab": {
          "base_uri": "https://localhost:8080/"
        },
        "outputId": "4c8792e4-9d0b-4d34-ae1d-4fa4768e6806"
      },
      "execution_count": null,
      "outputs": [
        {
          "output_type": "stream",
          "name": "stdout",
          "text": [
            "Enter first number2\n",
            "Enter second number3\n",
            "Enter third number4\n",
            "4  Is largest\n"
          ]
        }
      ]
    },
    {
      "cell_type": "markdown",
      "source": [
        "15. Create a program that simulates a basic ATM transaction menu.\n"
      ],
      "metadata": {
        "id": "D7z0rcZs6IOr"
      }
    },
    {
      "cell_type": "code",
      "source": [
        "import time\n",
        "\n",
        "password = 1234\n",
        "balance = 1000\n",
        "\n",
        "def checkbalance(passw):\n",
        "    if passw == password:\n",
        "        time.sleep(1)\n",
        "        return 'Your available balance is ' + str(balance)\n",
        "    else:\n",
        "        return 'Enter valid password'\n",
        "\n",
        "def withdraw(passw):\n",
        "    global balance\n",
        "    if passw == password:\n",
        "        money = int(input('How much money you want to withdraw: '))\n",
        "        if money > balance:\n",
        "            return 'Insufficient balance'\n",
        "        else:\n",
        "            balance -= money\n",
        "            time.sleep(1)\n",
        "            return 'Whirrrrrrrring... Please collect your cash. Your available balance is ' + str(balance)\n",
        "    else:\n",
        "        return 'Enter valid password'\n",
        "\n",
        "def deposit(passw):\n",
        "    global balance\n",
        "    if passw == password:\n",
        "        money = int(input('Enter amount to deposit: '))\n",
        "        balance += money\n",
        "        return 'Money deposited successfully'\n",
        "    else:\n",
        "        return 'Please enter valid password'\n",
        "\n",
        "def change_password(passw):\n",
        "    global password\n",
        "    if passw == password:\n",
        "        new_pass = int(input('Enter new passwordC '))\n",
        "        password = new_pass\n",
        "        return 'Password changed successfully'\n",
        "    else:\n",
        "        return 'Please enter valid password'\n",
        "\n",
        "print('Please insert your card')\n",
        "print('Select an option:')\n",
        "print('''A: Withdraw\n",
        "B: Deposit\n",
        "C: Check Balance\n",
        "D: Change Password''')\n",
        "option = input('Choose an option: ').upper()\n",
        "enter_pass = int(input('Enter your password '))\n",
        "\n",
        "if option == 'A':\n",
        "    print(withdraw(enter_pass))\n",
        "elif option == 'B':\n",
        "    print(deposit(enter_pass))\n",
        "elif option == 'C':\n",
        "    print(checkbalance(enter_pass))\n",
        "elif option == 'D':\n",
        "    print(change_password(enter_pass))\n",
        "else:\n",
        "    print('Invalid option')\n"
      ],
      "metadata": {
        "colab": {
          "base_uri": "https://localhost:8080/"
        },
        "id": "1OhendkCUQtM",
        "outputId": "272a28ff-6099-4a83-997b-c37e41fac677"
      },
      "execution_count": null,
      "outputs": [
        {
          "output_type": "stream",
          "name": "stdout",
          "text": [
            "Please insert your card\n",
            "\n",
            ".\n",
            "..\n",
            "Select an option:\n",
            "A: Withdraw\n",
            "B: Deposit\n",
            "C: Check Balance\n",
            "D: Change Password\n",
            "Choose an option: C\n",
            "Enter your password: 1234\n",
            "Your available balance is 1000\n"
          ]
        }
      ]
    },
    {
      "cell_type": "markdown",
      "source": [
        "16. Build a program that checks if a given string is a palindrome or not.\n"
      ],
      "metadata": {
        "id": "kMxWmVpe6M0r"
      }
    },
    {
      "cell_type": "code",
      "source": [
        "s=input('Enter a string')\n",
        "\n",
        "if s[::-1]==s:\n",
        "  print('String is palindrome')\n",
        "else:\n",
        "  print('String is not palindrome')\n",
        "\n"
      ],
      "metadata": {
        "id": "yLO8rXHX6U_H",
        "colab": {
          "base_uri": "https://localhost:8080/"
        },
        "outputId": "fa82b2b0-28a2-45fb-b8ed-c6276f71c4df"
      },
      "execution_count": null,
      "outputs": [
        {
          "output_type": "stream",
          "name": "stdout",
          "text": [
            "Enter a stringnaman\n",
            "String is palindrome\n"
          ]
        }
      ]
    },
    {
      "cell_type": "markdown",
      "source": [
        "17. Write a program that calculates the average of a list of numbers, excluding the smallest and largest values.\n"
      ],
      "metadata": {
        "id": "diqiiX-I6V0w"
      }
    },
    {
      "cell_type": "code",
      "source": [
        "l=[1,2,3,4,5]\n",
        "\n",
        "l2=[i for i in l if i!=max(l) and i!=min(l)]\n",
        "avg=sum(l2)//len(l2)\n",
        "\n",
        "print(avg)"
      ],
      "metadata": {
        "id": "jd_TlyTr6ZeY",
        "colab": {
          "base_uri": "https://localhost:8080/"
        },
        "outputId": "1e624956-f0cc-407a-8952-172e407730e3"
      },
      "execution_count": null,
      "outputs": [
        {
          "output_type": "stream",
          "name": "stdout",
          "text": [
            "3\n"
          ]
        }
      ]
    },
    {
      "cell_type": "markdown",
      "source": [
        "18. Develop a program that converts a given temperature from Celsius to Fahrenheit.\n"
      ],
      "metadata": {
        "id": "xF4LvLfX6ciK"
      }
    },
    {
      "cell_type": "code",
      "source": [
        "celsius=int(input('Enter temprature in celcius'))\n",
        "fahrenheit = celsius * 9/5 + 32\n",
        "\n",
        "print(fahrenheit)"
      ],
      "metadata": {
        "id": "c8IbnSJC6gSQ",
        "colab": {
          "base_uri": "https://localhost:8080/"
        },
        "outputId": "c06bf9f9-23b9-40d8-d9f8-7ee9cf27e090"
      },
      "execution_count": null,
      "outputs": [
        {
          "output_type": "stream",
          "name": "stdout",
          "text": [
            "Enter temprature in celcius47\n",
            "116.6\n"
          ]
        }
      ]
    },
    {
      "cell_type": "markdown",
      "source": [
        "19. Create a program that simulates a basic calculator for addition, subtraction, multiplication, and division.\n"
      ],
      "metadata": {
        "id": "n0xqV8rS6jpC"
      }
    },
    {
      "cell_type": "code",
      "source": [
        "def add(a,b):\n",
        "\n",
        "  return a+b\n",
        "\n",
        "def sub(a,b):\n",
        "  return a-b\n",
        "\n",
        "def mult(a,b):\n",
        "\n",
        "  return a*b\n",
        "\n",
        "def divide(a,b):\n",
        "  return a//b\n",
        "\n",
        "\n",
        "print('+-*/')\n",
        "choice=input('choose one from above')\n",
        "if choice=='+':\n",
        "  n1=int(input('Enter a first number'))\n",
        "  n2=int(input('Enter second number'))\n",
        "  print(add(n1,n2))\n",
        "elif choice =='-':\n",
        "  n1=int(input('Enter a first number'))\n",
        "  n2=int(input('Enter second number'))\n",
        "  print(sub(n1,n2))\n",
        "elif choice == '*':\n",
        "  n1=int(input('Enter a first number'))\n",
        "  n2=int(input('Enter second number'))\n",
        "  print(mult(n1,n2))\n",
        "elif choice == '/':\n",
        "  n1=int(input('Enter a first number'))\n",
        "  n2=int(input('Enter second number'))\n",
        "  print(divide(n1,n2))\n",
        "\n",
        "\n",
        "\n",
        "\n"
      ],
      "metadata": {
        "id": "c3tlxF3R6lAy",
        "colab": {
          "base_uri": "https://localhost:8080/"
        },
        "outputId": "c2905a5c-6867-4643-f6fb-25965db745d4"
      },
      "execution_count": null,
      "outputs": [
        {
          "output_type": "stream",
          "name": "stdout",
          "text": [
            "+-*/\n",
            "choose one from above+\n",
            "Enter a first number2\n",
            "Enter second number2\n",
            "4\n"
          ]
        }
      ]
    },
    {
      "cell_type": "markdown",
      "source": [
        "20. Write a program that determines the roots of a cubic equation using the Cardano formula."
      ],
      "metadata": {
        "id": "_P7akkkt6puu"
      }
    },
    {
      "cell_type": "code",
      "source": [],
      "metadata": {
        "id": "wXB2kMLq6qjV"
      },
      "execution_count": null,
      "outputs": []
    },
    {
      "cell_type": "markdown",
      "source": [],
      "metadata": {
        "id": "PF5QLwp16vsT"
      }
    },
    {
      "cell_type": "markdown",
      "source": [
        "#Advanced Level\n"
      ],
      "metadata": {
        "id": "75Xn89Hd6xVF"
      }
    },
    {
      "cell_type": "markdown",
      "source": [
        "21. Create a program that calculates the income tax based on the user's income and tax brackets.\n"
      ],
      "metadata": {
        "id": "4pQkAC_C61U4"
      }
    },
    {
      "cell_type": "code",
      "source": [],
      "metadata": {
        "id": "35T7nSCY6yo-"
      },
      "execution_count": null,
      "outputs": []
    },
    {
      "cell_type": "markdown",
      "source": [
        "22. Write a program that simulates a rock-paper-scissors game against the computer.\n"
      ],
      "metadata": {
        "id": "B8mOxBM766y3"
      }
    },
    {
      "cell_type": "code",
      "source": [
        "import random\n",
        "\n",
        "comp=['rock','paper','sissors']\n",
        "\n",
        "\n",
        "while True:\n",
        "  yourChoice=input('Enter your choice')\n",
        "  compChoice=random.choice(comp)\n",
        "  if yourChoice=='paper' and compChoice =='rock':\n",
        "    print(compChoice)\n",
        "    print('you win')\n",
        "\n",
        "  elif yourChoice==compChoice:\n",
        "    print(yourChoice)\n",
        "    print(compChoice)\n",
        "    print('Draw')\n",
        "\n",
        "  elif yourChoice=='rock' and compChoice=='paper':\n",
        "    print(compChoice)\n",
        "    print('you loss')\n",
        "\n",
        "  elif yourChoice=='paper' and compChoice=='sissors':\n",
        "    print(compChoice)\n",
        "    print('You loss')\n",
        "\n",
        "  elif yourChoice=='sissors' and compChoice == 'paper':\n",
        "    print(compChoice)\n",
        "    print('You win')\n",
        "\n",
        "  elif yourChoice=='rock' and compChoice=='sissors':\n",
        "    print(compChoice)\n",
        "    print('You win')\n",
        "\n",
        "\n",
        "  elif yourChoice=='sissors' and compChoice == 'rock':\n",
        "    print(compChoice)\n",
        "    print('You loss')\n",
        "\n",
        "\n"
      ],
      "metadata": {
        "id": "bBbr_jrv6_yL",
        "colab": {
          "base_uri": "https://localhost:8080/",
          "height": 1000
        },
        "outputId": "c9bdbd42-ed35-42ce-fd1f-7b54a69e4923"
      },
      "execution_count": null,
      "outputs": [
        {
          "output_type": "stream",
          "name": "stdout",
          "text": [
            "Enter your choicerock\n",
            "rock\n",
            "rock\n",
            "Draw\n",
            "Enter your choicepaper\n",
            "rock\n",
            "you win\n",
            "Enter your choicepaper\n",
            "rock\n",
            "you win\n",
            "Enter your choicerock\n",
            "rock\n",
            "rock\n",
            "Draw\n",
            "Enter your choicesissor\n",
            "Enter your choicesissors\n",
            "sissors\n",
            "sissors\n",
            "Draw\n",
            "Enter your choicerock\n",
            "sissors\n",
            "You win\n",
            "Enter your choicerock\n",
            "rock\n",
            "rock\n",
            "Draw\n",
            "Enter your choicepaper\n",
            "sissors\n",
            "You loss\n",
            "Enter your choicepaper\n",
            "sissors\n",
            "You loss\n",
            "Enter your choicepaper\n",
            "paper\n",
            "paper\n",
            "Draw\n"
          ]
        },
        {
          "output_type": "error",
          "ename": "KeyboardInterrupt",
          "evalue": "ignored",
          "traceback": [
            "\u001b[0;31m---------------------------------------------------------------------------\u001b[0m",
            "\u001b[0;31mKeyboardInterrupt\u001b[0m                         Traceback (most recent call last)",
            "\u001b[0;32m<ipython-input-48-d207bd6fc9d8>\u001b[0m in \u001b[0;36m<cell line: 6>\u001b[0;34m()\u001b[0m\n\u001b[1;32m      5\u001b[0m \u001b[0mcount\u001b[0m\u001b[0;34m=\u001b[0m\u001b[0;36m0\u001b[0m\u001b[0;34m\u001b[0m\u001b[0;34m\u001b[0m\u001b[0m\n\u001b[1;32m      6\u001b[0m \u001b[0;32mwhile\u001b[0m \u001b[0;32mTrue\u001b[0m\u001b[0;34m:\u001b[0m\u001b[0;34m\u001b[0m\u001b[0;34m\u001b[0m\u001b[0m\n\u001b[0;32m----> 7\u001b[0;31m   \u001b[0myourChoice\u001b[0m\u001b[0;34m=\u001b[0m\u001b[0minput\u001b[0m\u001b[0;34m(\u001b[0m\u001b[0;34m'Enter your choice'\u001b[0m\u001b[0;34m)\u001b[0m\u001b[0;34m\u001b[0m\u001b[0;34m\u001b[0m\u001b[0m\n\u001b[0m\u001b[1;32m      8\u001b[0m   \u001b[0mcompChoice\u001b[0m\u001b[0;34m=\u001b[0m\u001b[0mrandom\u001b[0m\u001b[0;34m.\u001b[0m\u001b[0mchoice\u001b[0m\u001b[0;34m(\u001b[0m\u001b[0mcomp\u001b[0m\u001b[0;34m)\u001b[0m\u001b[0;34m\u001b[0m\u001b[0;34m\u001b[0m\u001b[0m\n\u001b[1;32m      9\u001b[0m   \u001b[0;32mif\u001b[0m \u001b[0myourChoice\u001b[0m\u001b[0;34m==\u001b[0m\u001b[0;34m'paper'\u001b[0m \u001b[0;32mand\u001b[0m \u001b[0mcompChoice\u001b[0m \u001b[0;34m==\u001b[0m\u001b[0;34m'rock'\u001b[0m\u001b[0;34m:\u001b[0m\u001b[0;34m\u001b[0m\u001b[0;34m\u001b[0m\u001b[0m\n",
            "\u001b[0;32m/usr/local/lib/python3.10/dist-packages/ipykernel/kernelbase.py\u001b[0m in \u001b[0;36mraw_input\u001b[0;34m(self, prompt)\u001b[0m\n\u001b[1;32m    849\u001b[0m                 \u001b[0;34m\"raw_input was called, but this frontend does not support input requests.\"\u001b[0m\u001b[0;34m\u001b[0m\u001b[0;34m\u001b[0m\u001b[0m\n\u001b[1;32m    850\u001b[0m             )\n\u001b[0;32m--> 851\u001b[0;31m         return self._input_request(str(prompt),\n\u001b[0m\u001b[1;32m    852\u001b[0m             \u001b[0mself\u001b[0m\u001b[0;34m.\u001b[0m\u001b[0m_parent_ident\u001b[0m\u001b[0;34m,\u001b[0m\u001b[0;34m\u001b[0m\u001b[0;34m\u001b[0m\u001b[0m\n\u001b[1;32m    853\u001b[0m             \u001b[0mself\u001b[0m\u001b[0;34m.\u001b[0m\u001b[0m_parent_header\u001b[0m\u001b[0;34m,\u001b[0m\u001b[0;34m\u001b[0m\u001b[0;34m\u001b[0m\u001b[0m\n",
            "\u001b[0;32m/usr/local/lib/python3.10/dist-packages/ipykernel/kernelbase.py\u001b[0m in \u001b[0;36m_input_request\u001b[0;34m(self, prompt, ident, parent, password)\u001b[0m\n\u001b[1;32m    893\u001b[0m             \u001b[0;32mexcept\u001b[0m \u001b[0mKeyboardInterrupt\u001b[0m\u001b[0;34m:\u001b[0m\u001b[0;34m\u001b[0m\u001b[0;34m\u001b[0m\u001b[0m\n\u001b[1;32m    894\u001b[0m                 \u001b[0;31m# re-raise KeyboardInterrupt, to truncate traceback\u001b[0m\u001b[0;34m\u001b[0m\u001b[0;34m\u001b[0m\u001b[0m\n\u001b[0;32m--> 895\u001b[0;31m                 \u001b[0;32mraise\u001b[0m \u001b[0mKeyboardInterrupt\u001b[0m\u001b[0;34m(\u001b[0m\u001b[0;34m\"Interrupted by user\"\u001b[0m\u001b[0;34m)\u001b[0m \u001b[0;32mfrom\u001b[0m \u001b[0;32mNone\u001b[0m\u001b[0;34m\u001b[0m\u001b[0;34m\u001b[0m\u001b[0m\n\u001b[0m\u001b[1;32m    896\u001b[0m             \u001b[0;32mexcept\u001b[0m \u001b[0mException\u001b[0m \u001b[0;32mas\u001b[0m \u001b[0me\u001b[0m\u001b[0;34m:\u001b[0m\u001b[0;34m\u001b[0m\u001b[0;34m\u001b[0m\u001b[0m\n\u001b[1;32m    897\u001b[0m                 \u001b[0mself\u001b[0m\u001b[0;34m.\u001b[0m\u001b[0mlog\u001b[0m\u001b[0;34m.\u001b[0m\u001b[0mwarning\u001b[0m\u001b[0;34m(\u001b[0m\u001b[0;34m\"Invalid Message:\"\u001b[0m\u001b[0;34m,\u001b[0m \u001b[0mexc_info\u001b[0m\u001b[0;34m=\u001b[0m\u001b[0;32mTrue\u001b[0m\u001b[0;34m)\u001b[0m\u001b[0;34m\u001b[0m\u001b[0;34m\u001b[0m\u001b[0m\n",
            "\u001b[0;31mKeyboardInterrupt\u001b[0m: Interrupted by user"
          ]
        }
      ]
    },
    {
      "cell_type": "markdown",
      "source": [
        "23. Develop a program that generates a random password based on user preferences (length, complexity).\n"
      ],
      "metadata": {
        "id": "w9oQGZA37AZk"
      }
    },
    {
      "cell_type": "code",
      "source": [
        "import random\n",
        "\n",
        "length=int(input('Enter length of password'))\n",
        "complexity=input('Enter complexity level(easy,medium,hard)')\n",
        "\n",
        "char='!@#$%^&*(()><?:)'\n",
        "numbers='1234567890'\n",
        "letters='abcdefghijklmnopqrstuvwxyz'\n",
        "\n",
        "password=''\n",
        "\n",
        "if complexity=='easy':\n",
        "  for i in range(1,length+1):\n",
        "    password+=random.choice(letters)\n",
        "\n",
        "elif complexity =='medium':\n",
        "  for i in range(1,length+1):\n",
        "    password+=random.choice(letters+numbers)\n",
        "  for i in range(3):\n",
        "\n",
        "    password+=random.choice(numbers)\n",
        "elif complexity == 'hard':\n",
        "  for i in range(1,length+1):\n",
        "    password+=random.choice(letters+numbers+char)\n",
        "\n",
        "else:\n",
        "  print('Enter right choice [easy, medium, hard] ')\n",
        "\n",
        "print('You can use this password',password)\n",
        "\n",
        "\n",
        "\n",
        "\n",
        "\n"
      ],
      "metadata": {
        "id": "EtUv-Q2X7D37",
        "colab": {
          "base_uri": "https://localhost:8080/"
        },
        "outputId": "323f28e5-5182-48ae-f80e-0f195610766b"
      },
      "execution_count": null,
      "outputs": [
        {
          "output_type": "stream",
          "name": "stdout",
          "text": [
            "Enter length of password8\n",
            "Enter complexity level(easy,medium,hard)hard\n",
            "You can use this password <*ut%p*f\n"
          ]
        }
      ]
    },
    {
      "cell_type": "markdown",
      "source": [
        "24. Create a program that implements a simple text-based adventure game with branching scenarios.\n"
      ],
      "metadata": {
        "id": "ZVnJKQH-7EYo"
      }
    },
    {
      "cell_type": "code",
      "source": [],
      "metadata": {
        "id": "5nK8l40I7Him"
      },
      "execution_count": null,
      "outputs": []
    },
    {
      "cell_type": "markdown",
      "source": [
        "25. Build a program that solves a linear equation for x, considering different cases.\n"
      ],
      "metadata": {
        "id": "P8uinXCl7H7_"
      }
    },
    {
      "cell_type": "code",
      "source": [],
      "metadata": {
        "id": "PsmLv5ft7Lmd"
      },
      "execution_count": null,
      "outputs": []
    },
    {
      "cell_type": "markdown",
      "source": [
        "26. Write a program that simulates a basic quiz game with multiple-choice questions and scoring.\n"
      ],
      "metadata": {
        "id": "qFUB_9mq7MEX"
      }
    },
    {
      "cell_type": "code",
      "source": [
        "\n",
        "\n",
        "def quizgame():\n",
        "  score=0\n",
        "\n",
        "  print('Q1.Where is largest mountain on solar system')\n",
        "  print('a:earth')\n",
        "  print('b:moon')\n",
        "  print('c:mars')\n",
        "  ans=input('Enter your answer(a,b,c)')\n",
        "  if ans=='c':\n",
        "    print('Your answer is right')\n",
        "    score+=1\n",
        "  else:\n",
        "    print('Your answer is wrong')\n",
        "  print('Q2.What is 2+2')\n",
        "  print('a:2')\n",
        "  print('b:3')\n",
        "  print('c:4')\n",
        "  ans2=input('Enter your answer(a,b,c)')\n",
        "  if ans=='c':\n",
        "    print('Your answer is right')\n",
        "    score+=1\n",
        "  else:\n",
        "    print('Your answer is wrong')\n",
        "\n",
        "\n",
        "  print('Q3.Largest planet in solar system')\n",
        "  print('a:mars')\n",
        "  print('b:jupiter')\n",
        "  print('c:earth')\n",
        "\n",
        "  ans3=input('Enter your answer(a,b,c)')\n",
        "  if ans=='b':\n",
        "    print('Your answer is right')\n",
        "    score+=1\n",
        "  else:\n",
        "    print('Your answer is wrong')\n",
        "  return 'Your score is',score\n",
        "\n",
        "\n",
        "\n",
        "while True:\n",
        "  print(quizgame())\n",
        "  stop=input('Do you want to play again')\n",
        "  if stop=='no':\n",
        "    print('Thank you for playing')\n",
        "    break\n",
        "  else:\n",
        "\n",
        "    pass"
      ],
      "metadata": {
        "id": "L6klEqa97PwB",
        "colab": {
          "base_uri": "https://localhost:8080/"
        },
        "outputId": "9c5226b2-ad8c-4773-87a7-e1aaae147746"
      },
      "execution_count": null,
      "outputs": [
        {
          "output_type": "stream",
          "name": "stdout",
          "text": [
            "Q1.Where is largest mountain on solar system\n",
            "a:earth\n",
            "b:moon\n",
            "c:mars\n",
            "Enter your answer(a,b,c)c\n",
            "Your answer is right\n",
            "Q2.What is 2+2\n",
            "a:2\n",
            "b:3\n",
            "c:4\n",
            "Enter your answer(a,b,c)c\n",
            "Your answer is right\n",
            "Q3.Largest planet in solar system\n",
            "a:mars\n",
            "b:jupiter\n",
            "c:earth\n",
            "Enter your answer(a,b,c)b\n",
            "Your answer is wrong\n",
            "('Your score is', 2)\n",
            "Do you want to play againno\n",
            "Thank you for playing\n"
          ]
        }
      ]
    },
    {
      "cell_type": "markdown",
      "source": [
        "27. Develop a program that determines whether a given year is a prime number or not.\n"
      ],
      "metadata": {
        "id": "dFkiVrM77QDi"
      }
    },
    {
      "cell_type": "code",
      "source": [
        "year=int(input('Enter a number'))\n",
        "\n",
        "from sympy import isprime\n",
        "\n",
        "if isprime(year):\n",
        "  print('The given year is prime')\n",
        "else:\n",
        "  print('The given year is not prime')\n"
      ],
      "metadata": {
        "id": "ok_JwvBp7TsX",
        "colab": {
          "base_uri": "https://localhost:8080/"
        },
        "outputId": "4ff53c5a-de51-4e44-f9c8-80a3abc76b55"
      },
      "execution_count": null,
      "outputs": [
        {
          "output_type": "stream",
          "name": "stdout",
          "text": [
            "Enter a number2012\n",
            "The given year is not prime\n"
          ]
        }
      ]
    },
    {
      "cell_type": "markdown",
      "source": [
        "28. Create a program that sorts three numbers in ascending order using conditional statements.\n"
      ],
      "metadata": {
        "id": "JHmQzarF7UK4"
      }
    },
    {
      "cell_type": "code",
      "source": [
        "a=5\n",
        "b=7\n",
        "c=3\n",
        "l=[]\n",
        "\n"
      ],
      "metadata": {
        "id": "AjfGM1Y47XFD"
      },
      "execution_count": null,
      "outputs": []
    },
    {
      "cell_type": "markdown",
      "source": [
        "29. Build a program that determines the roots of a quartic equation using numerical methods.\n"
      ],
      "metadata": {
        "id": "5xGq6vpT7Xpa"
      }
    },
    {
      "cell_type": "code",
      "source": [],
      "metadata": {
        "id": "-QpHIzno7axi"
      },
      "execution_count": null,
      "outputs": []
    },
    {
      "cell_type": "markdown",
      "source": [
        "30. Write a program that calculates the BMI (Body Mass Index) and provides health recommendations based\n",
        "on the user's input."
      ],
      "metadata": {
        "id": "m883aVSt7drD"
      }
    },
    {
      "cell_type": "code",
      "source": [
        "weight=int(input('Enter weight'))\n",
        "height=int(input('Enter height'))\n",
        "\n",
        "bmi=weight / (height ** 2)\n",
        "\n",
        "if bmi < 18.5:\n",
        "  return 'You are underweight.'\n",
        "elif 18.5 <= bmi < 24.9:\n",
        "  return 'You have a normal weight.'\n",
        "elif 24.9 <= bmi < 29.9:\n",
        "  return 'You are overweight.'\n",
        "else:\n",
        "  return 'You are obese.'\n",
        "\n",
        "\n",
        "\n",
        "\n",
        "\n",
        "\n",
        "\n",
        "\n",
        "\n"
      ],
      "metadata": {
        "id": "M_yDaXkN7gmS"
      },
      "execution_count": null,
      "outputs": []
    },
    {
      "cell_type": "markdown",
      "source": [
        "#Challenge Level"
      ],
      "metadata": {
        "id": "rbifcfBL7idW"
      }
    },
    {
      "cell_type": "markdown",
      "source": [
        "31. Create a program that validates a password based on complexity rules (length, characters, etc.).\n"
      ],
      "metadata": {
        "id": "v3XLdkWP7vAY"
      }
    },
    {
      "cell_type": "code",
      "source": [
        "letters='abcdefghijklmnopqrstuvwxyz'\n",
        "numbers='1234567890'\n",
        "char='!@#$%^^&*()_+{}\"|<>:?'\n",
        "\n",
        "passwrod=input('Enter password')\n",
        "count=0\n",
        "for i in password:\n",
        "  if i in char and i in numbers and i in letters and len(password)>=8:\n",
        "    count+=1\n",
        "  else:\n",
        "    count*=0\n",
        "\n",
        "if count==0:\n",
        "  print('Your password is strong')\n",
        "else:\n",
        "  print('Your password is weak')\n",
        "\n"
      ],
      "metadata": {
        "id": "uoYUIbQ97uef",
        "colab": {
          "base_uri": "https://localhost:8080/"
        },
        "outputId": "dc2e8e49-0bef-4b4e-941c-f43b7698558c"
      },
      "execution_count": null,
      "outputs": [
        {
          "output_type": "stream",
          "name": "stdout",
          "text": [
            "Enter passwordxyz@1234\n",
            "Your password is strong\n"
          ]
        }
      ]
    },
    {
      "cell_type": "markdown",
      "source": [
        "32. Develop a program that performs matrix addition and subtraction based on user input.\n"
      ],
      "metadata": {
        "id": "ZV93sUEJ70zC"
      }
    },
    {
      "cell_type": "code",
      "source": [],
      "metadata": {
        "id": "up8r8NhN73gv"
      },
      "execution_count": null,
      "outputs": []
    },
    {
      "cell_type": "markdown",
      "source": [
        "33. Write a program that calculates the greatest common divisor (GCD) of two numbers using the Euclidean\n",
        "algorithm.\n"
      ],
      "metadata": {
        "id": "zu1Iuftn73-R"
      }
    },
    {
      "cell_type": "code",
      "source": [],
      "metadata": {
        "id": "lsqyx_6O77qW"
      },
      "execution_count": null,
      "outputs": []
    },
    {
      "cell_type": "markdown",
      "source": [
        "34. Build a program that performs matrix multiplication using nested loops and conditional statements.\n"
      ],
      "metadata": {
        "id": "_oXRMJfC78LK"
      }
    },
    {
      "cell_type": "code",
      "source": [],
      "metadata": {
        "id": "jdYZBsLn7-pw"
      },
      "execution_count": null,
      "outputs": []
    },
    {
      "cell_type": "markdown",
      "source": [
        "35. Create a program that simulates a basic text-based tic-tac-toe game against the computer.\n"
      ],
      "metadata": {
        "id": "JbOP4Ewe7_t6"
      }
    },
    {
      "cell_type": "code",
      "source": [],
      "metadata": {
        "id": "DGzN4ikQ8Cvp"
      },
      "execution_count": null,
      "outputs": []
    },
    {
      "cell_type": "markdown",
      "source": [
        "36. Write a program that generates Fibonacci numbers up to a specified term using iterative methods.\n"
      ],
      "metadata": {
        "id": "uaoMtrzz8DPD"
      }
    },
    {
      "cell_type": "code",
      "source": [],
      "metadata": {
        "id": "bRDSl3da8Gjp"
      },
      "execution_count": null,
      "outputs": []
    },
    {
      "cell_type": "markdown",
      "source": [
        "37. Develop a program that calculates the nth term of the Fibonacci sequence using memoization.\n"
      ],
      "metadata": {
        "id": "jpNV_dF98Hmd"
      }
    },
    {
      "cell_type": "code",
      "source": [],
      "metadata": {
        "id": "achjRSy28LUN"
      },
      "execution_count": null,
      "outputs": []
    },
    {
      "cell_type": "markdown",
      "source": [
        "38. Create a program that generates a calendar for a given month and year using conditional statements.\n"
      ],
      "metadata": {
        "id": "Lfm5arcn8L7N"
      }
    },
    {
      "cell_type": "code",
      "source": [],
      "metadata": {
        "id": "Lp9PEiMl8Oha"
      },
      "execution_count": null,
      "outputs": []
    },
    {
      "cell_type": "markdown",
      "source": [
        "39. Build a program that simulates a basic text-based blackjack game against the computer.\n"
      ],
      "metadata": {
        "id": "hZXoCrpp8Qy7"
      }
    },
    {
      "cell_type": "code",
      "source": [],
      "metadata": {
        "id": "BQ7-9Nri8UEj"
      },
      "execution_count": null,
      "outputs": []
    },
    {
      "cell_type": "markdown",
      "source": [
        "40. Write a program that generates the prime factors of a given number using trial division."
      ],
      "metadata": {
        "id": "v49HuGZP8Uqt"
      }
    },
    {
      "cell_type": "code",
      "source": [],
      "metadata": {
        "id": "NJFAuAvh8YRf"
      },
      "execution_count": null,
      "outputs": []
    }
  ]
}